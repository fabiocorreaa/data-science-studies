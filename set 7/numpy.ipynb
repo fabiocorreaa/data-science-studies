{
 "cells": [
  {
   "cell_type": "code",
   "execution_count": 1,
   "id": "17e46596-7841-41e8-beba-50b00afd5e76",
   "metadata": {},
   "outputs": [],
   "source": [
    "import numpy as np"
   ]
  },
  {
   "cell_type": "code",
   "execution_count": 6,
   "id": "e24af0ca-7349-4d6f-8482-ad1c09e68dbf",
   "metadata": {},
   "outputs": [
    {
     "name": "stdout",
     "output_type": "stream",
     "text": [
      "[12 34 26 18 10]\n",
      "<class 'numpy.ndarray'>\n"
     ]
    }
   ],
   "source": [
    "# Criando array\n",
    "mt = np.array([12,34,26,18,10])\n",
    "print(mt)\n",
    "print(type(mt))"
   ]
  },
  {
   "cell_type": "code",
   "execution_count": 7,
   "id": "dbd92841-0770-4587-ad1c-8a6624e888f0",
   "metadata": {},
   "outputs": [
    {
     "name": "stdout",
     "output_type": "stream",
     "text": [
      "[1. 2. 3.]\n",
      "<class 'numpy.ndarray'>\n",
      "[1 2 3]\n",
      "<class 'numpy.ndarray'>\n"
     ]
    }
   ],
   "source": [
    "# Criando array com tipo específico\n",
    "mtfloat = np.array([1,2,3], dtype=np.float64)\n",
    "print(mtfloat)\n",
    "print(type(mtfloat))\n",
    "mtint = np.array([1, 2, 3], dtype=np.int32)\n",
    "print(mtint)\n",
    "print(type(mtint))"
   ]
  },
  {
   "cell_type": "code",
   "execution_count": 5,
   "id": "3aed28d6-1145-4985-a165-3a5259d400be",
   "metadata": {},
   "outputs": [
    {
     "name": "stdout",
     "output_type": "stream",
     "text": [
      "[ 1.4       3.6      -5.1       9.42      4.999999]\n",
      "[ 1  3 -5  9  4]\n"
     ]
    }
   ],
   "source": [
    "# Mudando o tipo de array\n",
    "mtnew = np.array([1.4, 3.6, -5.1, 9.42, 4.999999])\n",
    "print(mtnew)\n",
    "# Realizando conversão\n",
    "mtnewint = mtnew.astype(np.int32)\n",
    "print(mtnewint)"
   ]
  },
  {
   "cell_type": "code",
   "execution_count": 8,
   "id": "6802ba3b-df1a-42be-9f20-488abd972fe3",
   "metadata": {},
   "outputs": [
    {
     "name": "stdout",
     "output_type": "stream",
     "text": [
      "[1 2 3 4]\n",
      "[1. 2. 3. 4.]\n"
     ]
    }
   ],
   "source": [
    "# Inverso\n",
    "mt5 = np.array([1, 2, 3, 4])\n",
    "print(mt5)\n",
    "mt6 = mt5.astype(float)\n",
    "print(mt6)"
   ]
  },
  {
   "cell_type": "code",
   "execution_count": 10,
   "id": "88e29889-cb32-4e32-967d-ededf3588172",
   "metadata": {},
   "outputs": [
    {
     "name": "stdout",
     "output_type": "stream",
     "text": [
      "[[ 7  2 23]\n",
      " [12 27  4]\n",
      " [ 5 34 23]]\n"
     ]
    }
   ],
   "source": [
    "# Multidimensional\n",
    "mt7 = np.array([[7,2,23], [12,27,4], [5,34,23]])\n",
    "print(mt7)"
   ]
  },
  {
   "cell_type": "code",
   "execution_count": 13,
   "id": "fcf08320-34c1-4045-a862-c624fa3fb689",
   "metadata": {},
   "outputs": [
    {
     "name": "stdout",
     "output_type": "stream",
     "text": [
      "[[         0 1072693248]\n",
      " [         0 1073741824]\n",
      " [         0 1074266112]]\n",
      "\n",
      "\n",
      "[[0. 0. 0.]\n",
      " [0. 0. 0.]\n",
      " [0. 0. 0.]\n",
      " [0. 0. 0.]]\n",
      "\n",
      "\n",
      "[[1. 1. 1. 1. 1. 1. 1.]\n",
      " [1. 1. 1. 1. 1. 1. 1.]\n",
      " [1. 1. 1. 1. 1. 1. 1.]\n",
      " [1. 1. 1. 1. 1. 1. 1.]\n",
      " [1. 1. 1. 1. 1. 1. 1.]]\n",
      "\n",
      "\n",
      "[[1. 0. 0. 0. 0.]\n",
      " [0. 1. 0. 0. 0.]\n",
      " [0. 0. 1. 0. 0.]\n",
      " [0. 0. 0. 1. 0.]\n",
      " [0. 0. 0. 0. 1.]]\n"
     ]
    }
   ],
   "source": [
    "# Arrays vazios tipificados\n",
    "vazio = np.empty([3,2], dtype=int)\n",
    "print(vazio)\n",
    "print('\\n')\n",
    "# Matriz 4x3 com valores zero\n",
    "zeros = np.zeros([4,3])\n",
    "print(zeros)\n",
    "print('\\n')\n",
    "# Valores 1\n",
    "um = np.ones([5,7])\n",
    "print(um)\n",
    "print('\\n')\n",
    "# Matriz quadrada com diagonal de valores 1 e resto zero\n",
    "diagonal = np.eye(5)\n",
    "print(diagonal)"
   ]
  },
  {
   "cell_type": "code",
   "execution_count": 14,
   "id": "3da79bf3-0d8f-49fb-9e66-7e68cf6e865c",
   "metadata": {},
   "outputs": [
    {
     "name": "stdout",
     "output_type": "stream",
     "text": [
      "[0.24196822 0.23407999 0.01623045 0.45922593 0.90211555]\n",
      "\n",
      "\n",
      "[-0.18592483  1.11423648  0.26975556 -1.20602967 -0.40675305]\n",
      "\n",
      "\n",
      "[[9.61212828 9.33207823 2.25043643 6.59296055]\n",
      " [4.79885362 6.02851968 0.52015195 1.98851495]\n",
      " [6.45064002 9.90977653 1.40125389 9.84194498]]\n"
     ]
    }
   ],
   "source": [
    "# Valores aleatórios entre 0 e 1\n",
    "ale = np.random.random((5))\n",
    "print(ale)\n",
    "print('\\n')\n",
    "# Valores aleatórios distrib. normal contendo negativos\n",
    "ale2 = np.random.randn((5))\n",
    "print(ale2)\n",
    "print('\\n')\n",
    "# Val aleatórios 3x4\n",
    "ale3 = (10*np.random.random((3,4)))\n",
    "print(ale3)"
   ]
  },
  {
   "cell_type": "code",
   "execution_count": 16,
   "id": "d33365cb-af23-443a-a4de-92e4d485a7ec",
   "metadata": {},
   "outputs": [
    {
     "name": "stdout",
     "output_type": "stream",
     "text": [
      "[0.51182162 0.9504637  0.14415961]\n",
      "\n",
      "\n",
      "[[8 9 2 3]\n",
      " [8 4 2 8]\n",
      " [2 4 6 5]]\n"
     ]
    }
   ],
   "source": [
    "# Outros métodos de aleatoriedade\n",
    "# Semente\n",
    "gnr = np.random.default_rng(1)\n",
    "ale5 = gnr.random(3)\n",
    "print(ale5)\n",
    "print('\\n')\n",
    "\n",
    "# Gerar inteiros\n",
    "ale6 = gnr.integers(10, size=(3,4))\n",
    "print(ale6)"
   ]
  },
  {
   "cell_type": "code",
   "execution_count": 20,
   "id": "6e8cb02b-1d7f-4369-af3f-887e0bb42a88",
   "metadata": {},
   "outputs": [
    {
     "name": "stdout",
     "output_type": "stream",
     "text": [
      "[11 12 13 14 15 16 17 18 19 20]\n"
     ]
    }
   ],
   "source": [
    "# Unique method\n",
    "j = np.array([11,12,13,14,15,16,17,12,13,11,18,19,20])\n",
    "j = np.unique(j)\n",
    "print(j)"
   ]
  },
  {
   "cell_type": "code",
   "execution_count": 21,
   "id": "48c595be-118e-4bbb-a3c8-869d4d3d0e94",
   "metadata": {},
   "outputs": [
    {
     "name": "stdout",
     "output_type": "stream",
     "text": [
      "[[17 22 43]\n",
      " [27 25 14]\n",
      " [15 24 32]]\n",
      "22\n",
      "(3, 3)\n"
     ]
    }
   ],
   "source": [
    "# Funções específicas\n",
    "# Cria matriz bidimensional k\n",
    "k = np.array([[17,22,43],[27,25,14],[15,24,32]])\n",
    "print(k)\n",
    "# Posição especcífica da matriz\n",
    "print(k[0][1])\n",
    "# Medidas de tamanho\n",
    "print(k.shape)"
   ]
  },
  {
   "cell_type": "code",
   "execution_count": 22,
   "id": "14c8c494-abef-4f6c-9a67-7ee372f9bf64",
   "metadata": {},
   "outputs": [
    {
     "name": "stdout",
     "output_type": "stream",
     "text": [
      "43\n",
      "14\n",
      "219\n",
      "24.333333333333332\n",
      "8.615231988880057\n"
     ]
    }
   ],
   "source": [
    "# Funções matemáticas\n",
    "# Máx, mín, soma, média, desvio padrão\n",
    "print(k.max())\n",
    "print(k.min())\n",
    "print(k.sum())\n",
    "print(k.mean())\n",
    "print(k.std())"
   ]
  },
  {
   "cell_type": "code",
   "execution_count": 26,
   "id": "dd730443-15b2-4ac6-b84c-b7faa160650e",
   "metadata": {},
   "outputs": [
    {
     "name": "stdout",
     "output_type": "stream",
     "text": [
      "[1. 2. 3. 4. 5. 6.]\n",
      "[2.71828183e+00 5.45981500e+01 8.10308393e+03 8.88611052e+06\n",
      " 7.20048993e+10 4.31123155e+15]\n"
     ]
    }
   ],
   "source": [
    "# Funções universais, aplicadas a todos os elementos\n",
    "k1 = np.array([1,4,9,16,25,36])\n",
    "# Raiz quadrada e elementos ao quadrado\n",
    "print(np.sqrt(k1))\n",
    "print(np.exp(k1))"
   ]
  },
  {
   "cell_type": "code",
   "execution_count": 28,
   "id": "92f057c1-cccc-418f-b7fc-94fb4dc0f48c",
   "metadata": {},
   "outputs": [
    {
     "name": "stdout",
     "output_type": "stream",
     "text": [
      "2\n",
      "[1 2]\n",
      "[2 3 4 5 6]\n",
      "[4 5 6]\n"
     ]
    }
   ],
   "source": [
    "# Extração de elementos\n",
    "m = np.array([1,2,3,4,5,6])\n",
    "print(m[1])\n",
    "print(m[0:2])\n",
    "print(m[1:])\n",
    "print(m[-3:])"
   ]
  },
  {
   "cell_type": "code",
   "execution_count": 29,
   "id": "5519ac58-73e5-42b7-b69c-542bbd978ec3",
   "metadata": {},
   "outputs": [
    {
     "name": "stdout",
     "output_type": "stream",
     "text": [
      "[3 5]\n",
      "[6 1]\n",
      "[3 6 7]\n",
      "[5 1 4]\n"
     ]
    }
   ],
   "source": [
    "# Extração de linhas e colunas\n",
    "l = np.array([[3,5],[6,1],[7,4]])\n",
    "l_linha_1 = l[0,:]\n",
    "l_linha_2 = l[1,:]\n",
    "l_coluna_1 = l[:,0]\n",
    "l_coluna_2 = l[:,1]\n",
    "print(l_linha_1)\n",
    "print(l_linha_2)\n",
    "print(l_coluna_1)\n",
    "print(l_coluna_2)"
   ]
  },
  {
   "cell_type": "code",
   "execution_count": 31,
   "id": "412ed70d-b4b8-473a-bbd3-c278efd46809",
   "metadata": {},
   "outputs": [
    {
     "name": "stdout",
     "output_type": "stream",
     "text": [
      "[[2 3]\n",
      " [4 5]]\n",
      "\n",
      "\n",
      "[[1 2]\n",
      " [3 4]]\n",
      "\n",
      "\n",
      "\n",
      "\n",
      "[[3 3]\n",
      " [5 5]\n",
      " [7 7]]\n"
     ]
    }
   ],
   "source": [
    "# Adição e multiplicação de matrizes\n",
    "n = np.array([[1,2],[3,4]])\n",
    "o = np.array([[1,1],[1,1]])\n",
    "res1 = n+o\n",
    "print(res1)\n",
    "print('\\n')\n",
    "res2 = n*o\n",
    "print(res2)\n",
    "print('\\n')\n",
    "p = np.array([[1,2],[3,4],[5,6]])\n",
    "q = np.array([2,1])\n",
    "print(p+q)"
   ]
  },
  {
   "cell_type": "code",
   "execution_count": 38,
   "id": "e016e0ef-1aea-4043-9625-f70db039934b",
   "metadata": {},
   "outputs": [
    {
     "name": "stdout",
     "output_type": "stream",
     "text": [
      "[[ 0  1  2  3  4]\n",
      " [ 5  6  7  8  9]\n",
      " [10 11 12 13 14]]\n",
      "[[ 0  5 10]\n",
      " [ 1  6 11]\n",
      " [ 2  7 12]\n",
      " [ 3  8 13]\n",
      " [ 4  9 14]]\n"
     ]
    }
   ],
   "source": [
    "# Transposição, rearranja um conjunto de 15 elementos de 0 a 14\n",
    "f = np.arange(15).reshape((3,5))\n",
    "print(f)\n",
    "s= f.T\n",
    "print(s)"
   ]
  },
  {
   "cell_type": "code",
   "execution_count": 40,
   "id": "37e99deb-9da1-4b87-9427-fe6336d8476b",
   "metadata": {},
   "outputs": [
    {
     "name": "stdout",
     "output_type": "stream",
     "text": [
      "[[ 0  1  2  3  4]\n",
      " [ 5  6  7  8  9]\n",
      " [10 11 12 13 14]]\n",
      "\n",
      "\n",
      "[[ 0  5 10]\n",
      " [ 1  6 11]\n",
      " [ 2  7 12]\n",
      " [ 3  8 13]\n",
      " [ 4  9 14]]\n"
     ]
    }
   ],
   "source": [
    "# Outra maneira de tanspôr\n",
    "r = np.arange(15).reshape((3,5))\n",
    "print(r)\n",
    "print('\\n')\n",
    "s = r.transpose((1,0))\n",
    "print(s)"
   ]
  },
  {
   "cell_type": "code",
   "execution_count": 45,
   "id": "bd607a12-974a-464d-807a-c2181107c04e",
   "metadata": {},
   "outputs": [
    {
     "name": "stdout",
     "output_type": "stream",
     "text": [
      "[[ 0.99178062 -0.8393003  -1.3569201  -1.19808444]\n",
      " [-0.81966133 -1.32835943 -0.1764679   1.12846389]\n",
      " [ 0.26715514 -1.79780975 -1.10028246 -1.33206642]\n",
      " [ 0.26629441  0.13990983 -0.99613425  1.30999949]]\n",
      "[[ True False False False]\n",
      " [False False False  True]\n",
      " [ True False False False]\n",
      " [ True  True False  True]]\n",
      "[[ 1 -1 -1 -1]\n",
      " [-1 -1 -1  1]\n",
      " [ 1 -1 -1 -1]\n",
      " [ 1  1 -1  1]]\n"
     ]
    }
   ],
   "source": [
    "# Expressões lógicas\n",
    "# Where\n",
    "v = np.random.randn(4,4)\n",
    "print(v)\n",
    "# Criz matriz com valores baseados na condição\n",
    "x = (v > 0)\n",
    "print(x)\n",
    "# Escolhendo os valores da matriz\n",
    "z = np.where(x > 0, 1, -1)\n",
    "print(z)"
   ]
  }
 ],
 "metadata": {
  "kernelspec": {
   "display_name": "Python 3 (ipykernel)",
   "language": "python",
   "name": "python3"
  },
  "language_info": {
   "codemirror_mode": {
    "name": "ipython",
    "version": 3
   },
   "file_extension": ".py",
   "mimetype": "text/x-python",
   "name": "python",
   "nbconvert_exporter": "python",
   "pygments_lexer": "ipython3",
   "version": "3.9.12"
  }
 },
 "nbformat": 4,
 "nbformat_minor": 5
}
